{
  "nbformat": 4,
  "nbformat_minor": 0,
  "metadata": {
    "colab": {
      "name": "4주차_과제.ipynb",
      "provenance": [],
      "collapsed_sections": [],
      "include_colab_link": true
    },
    "kernelspec": {
      "name": "python3",
      "display_name": "Python 3"
    }
  },
  "cells": [
    {
      "cell_type": "markdown",
      "metadata": {
        "id": "view-in-github",
        "colab_type": "text"
      },
      "source": [
        "<a href=\"https://colab.research.google.com/github/elyo9381/AI---study/blob/master/like%20lion/pre%20course/4%EC%A3%BC%EC%B0%A8_%EA%B3%BC%EC%A0%9C.ipynb\" target=\"_parent\"><img src=\"https://colab.research.google.com/assets/colab-badge.svg\" alt=\"Open In Colab\"/></a>"
      ]
    },
    {
      "cell_type": "markdown",
      "metadata": {
        "id": "wxkL6PjwsI6L",
        "colab_type": "text"
      },
      "source": [
        "# 4주차 과제\n",
        "- 용어 정리\n",
        "- 딥러닝 강의 클론 코딩\n",
        "- 딥러닝 순전파 & 역전파 계산"
      ]
    },
    {
      "cell_type": "markdown",
      "metadata": {
        "id": "ixEtDe6_uGgI",
        "colab_type": "text"
      },
      "source": [
        "## 1. 용어 정리\n",
        "\n",
        "다음 제시된 단어의 정의(설명)를 정리하여 작성 하세요.\n",
        "\n",
        "* 2문장 이상 작성 해 주세요. \n",
        "* 주제(단어)와 크게 벗어나지만 않는다면 정답처리 됩니다.\n",
        "* 강의 뿐 아니라 기타 레퍼런스를 참고하여 작성하셔도 됩니다. (기타 레퍼런스를 참고하신 경우, 해당 레퍼런스를 정리하여 하단에 작성해 주세요.)\n"
      ]
    },
    {
      "cell_type": "markdown",
      "metadata": {
        "id": "0lfwat8eurKZ",
        "colab_type": "text"
      },
      "source": [
        "__(예시)__\n",
        "### 심층 신경망\n",
        ": 입력층과 출력층 사이에 여러 개의 은닉층들로 이뤄진 인공신경망이다. 심층 신경망은 일반적으로 인공신경망과 마찬가지로 복잡한 비선형 관계들을 모델링 할 수 있다. 신층신경망의 목적은 분류 및 수치예측을 하기 위함이고 이미지 트레이닝이나 문자인식과 같은 분야에서 매우 유용하게 쓰이고 있다."
      ]
    },
    {
      "cell_type": "markdown",
      "metadata": {
        "id": "Y8YJNKG_v65A",
        "colab_type": "text"
      },
      "source": [
        "### MCP 뉴런\n",
        ": 맥컬록과 피츠가 간소화된 뇌의 뉴런 개념을 발표했고, 이를 간단한 이진출력을 내는 논리회로로 발표했습니다. 수상돌기에 여러 신호가 도착하면 세포체에 합쳐지고 합쳐진 신호가 특정 임계값을 넘으면 출력신호가 생성되고 축삭돌기응 이용하여 전달됩니다.\n",
        "\n",
        "### 퍼셉트론\n",
        ": MCP뉴런 모델에서 자동으로 최적의 가중치를 학습하는 알고리즘입니다. 입력과 임계치, 활성함수, 출력으로 구성되며 \n",
        "활성함수는 뉴런의 출력값을 정하는 함수로써 가중치를 곱하는 방법부터 시그모이드등 다양한 방법이 존재한다. \n",
        "\n",
        "뉴런에서 학습할때 중요한것은 가중치이고 학습을 통해서 일정한 값으로 수렴하게 된다. \n",
        "\n",
        "학습률 : 가중치를 조정을 위한 하이퍼파라미터이다.\n",
        "\n",
        "편향은 입력이 늘 한쪽으로 치우처진 고정값인데 입력값이 0인경우를 방지한다. \n",
        "\n",
        "### 역전파\n",
        ": 기대 출력값을 나오게 하기위해서 바로 이전의 값의 은닉층의 노드값과 가중치와 편향을 조정하게 된다. \n",
        "편향에서 일정부분 값을 조정한다(약 10%) 또한 은닉층의 가중치또한 10% 정도 조정한 값과 총오차는 0.x가 되고 은닉층기존값에서 오차를 뺀 값이 은닉층에 전달할값으로 2.6에 가까운 값이여야한다.\n",
        "\n",
        "즉 역전파는 출력값과 지도 데이터 사이에 생기는 오차를 이용해 출력층에서 입력층으로 가중치를 조정하는것이다. \n",
        "\n",
        "입력층의 가중치와 편향을 통해서 은닉층을 구하는데 이를 각각의 편미분을 통해서 조정된 입력층의 가중치와 편향을 통해 은닉층의 조정된 값을 도출할수있다.\n",
        "\n",
        "### 강화학습\n",
        ": 보상을 최대화 하는 의사결정전략이다. 이때 순차적으로 진행된다.\n",
        "\n",
        "\n",
        "### 과적합\n",
        ": 학습을 통해서 오차를 줄이려고 하는데 학습데이터가 늘어나면서 오차가 늘어나느 행동\n",
        "\n",
        "### 차원의 저주\n",
        ": 변수가 많을수록 데이터가 그래프에서 표현되는 범위가 넓어지고 이때문에 노이지가 발생하여 과적합이 나타날수있다.\n"
      ]
    },
    {
      "cell_type": "markdown",
      "metadata": {
        "id": "d-zfFXLCy6jD",
        "colab_type": "text"
      },
      "source": [
        "## 2. 딥러닝 강의 클론 코딩\n",
        "\n",
        "####__퍼셉트론 구조 구현하기__ \n",
        "딥러닝 강의(__딥러닝 원리[1] 3:15 ~ 5:15 부분__)를 보고 코드를 따라 치며 출력 결과를 만드세요.\n",
        " \n",
        "\n",
        "* 하나의 코드셀에 해당 코드를 한번에 다 적어서 실행해주세요 (__그렇게 하지 않을 경우, 아래 이미지와 같은 출력값이 나오지 않을 수 있습니다__)\n",
        "\n",
        "*__주의!__ 실제로 코딩해서 출력해보면 강의에 나온 출력 결과와 다르게 나옵니다!!\n"
      ]
    },
    {
      "cell_type": "code",
      "metadata": {
        "id": "86p0Npy0DfH-",
        "colab_type": "code",
        "colab": {
          "base_uri": "https://localhost:8080/",
          "height": 204
        },
        "outputId": "98bf6bb1-e336-46ce-ab8f-b55ad522740f"
      },
      "source": [
        "import tensorflow as tf\n",
        "tf.compat.v1.set_random_seed(2020)\n",
        "x= 1\n",
        "y=0\n",
        "w=tf.random.normal([1],0,1)\n",
        "\n",
        "import math\n",
        "def sigmoid(x):\n",
        "  return 1/(1+math.exp(-x))\n",
        "\n",
        "output = sigmoid(x*w)\n",
        "print(output)\n",
        "\n",
        "for i in range(1000):\n",
        "  output = sigmoid(x*w)\n",
        "  error = y- output\n",
        "  w = w + x*0.1 *error\n",
        "\n",
        "  if i %100 == 99:\n",
        "    print(\"학습횟수 : \", i, \"Error : \", error, \"예측 결과 : \",output)\n",
        "\n",
        "\n",
        "# 편향을 추가한 소스코드\n",
        "# import tensorflow as tf\n",
        "# tf.compat.v1.set_random_seed(2020)\n",
        "# x = 0\n",
        "# y = 1\n",
        "# w=tf.random.normal([1],0,1)\n",
        "# b = tf.random.normal([1],0,1)\n",
        "\n",
        "# import math\n",
        "# def sigmoid(x):\n",
        "#   return 1/(1+math.exp(-x))\n",
        "\n",
        "# # output = sigmoid(x*w)\n",
        "# # print(output)\n",
        "\n",
        "# for i in range(1000):\n",
        "#   # output = sigmoid(x*w)\n",
        "#   # error = y - output\n",
        "#   # w = w + x * 0.1 * error\n",
        "\n",
        "#   output = sigmoid(x*w+1*b)\n",
        "#   error = y - output\n",
        "#   w = w + x * 0.1 * error\n",
        "#   b = b + 1 * 0.1 * error\n",
        "\n",
        "#   if i %100 == 99:\n",
        "#     print(\"학습횟수 : \", i, \"Error : \", error, \"예측 결과 : \",output)"
      ],
      "execution_count": 8,
      "outputs": [
        {
          "output_type": "stream",
          "text": [
            "0.47477188589261\n",
            "학습횟수 :  99 Error :  -0.10010598284299604 예측 결과 :  0.10010598284299604\n",
            "학습횟수 :  199 Error :  -0.05178399422833116 예측 결과 :  0.05178399422833116\n",
            "학습횟수 :  299 Error :  -0.034590451977903586 예측 결과 :  0.034590451977903586\n",
            "학습횟수 :  399 Error :  -0.02588962752851373 예측 결과 :  0.02588962752851373\n",
            "학습횟수 :  499 Error :  -0.020658699939863617 예측 결과 :  0.020658699939863617\n",
            "학습횟수 :  599 Error :  -0.017174253993457355 예측 결과 :  0.017174253993457355\n",
            "학습횟수 :  699 Error :  -0.014689506449480992 예측 결과 :  0.014689506449480992\n",
            "학습횟수 :  799 Error :  -0.012829497265431342 예측 결과 :  0.012829497265431342\n",
            "학습횟수 :  899 Error :  -0.011385568271837804 예측 결과 :  0.011385568271837804\n",
            "학습횟수 :  999 Error :  -0.010232493309882492 예측 결과 :  0.010232493309882492\n"
          ],
          "name": "stdout"
        }
      ]
    },
    {
      "cell_type": "code",
      "metadata": {
        "id": "JWhW3Id8DfFV",
        "colab_type": "code",
        "colab": {}
      },
      "source": [
        ""
      ],
      "execution_count": 0,
      "outputs": []
    },
    {
      "cell_type": "markdown",
      "metadata": {
        "id": "kr0HVRk8fOom",
        "colab_type": "text"
      },
      "source": [
        "## 3. 딥러닝 순전파 & 역전파 계산\n",
        "\n",
        "딥러닝 강의(__딥러닝 원리[2] 0:55 ~ 4:32 부분__)에 나오는 순전파 & 역전파 계산에 대한 문제 입니다.\n",
        "\n",
        "해당 영상과 다음 이미지를 참고하여 다음 2가지 물음에 답하세요.\n",
        "\n",
        "\n",
        "(1) 학습률이 0.2 일 경우 출력층의 노드값\n",
        "\n",
        "(2) 학습률이 0.1과 0.2 중 기대출력값이 지도데이터 \"3\"과 더 가까운 학습률은?"
      ]
    },
    {
      "cell_type": "markdown",
      "metadata": {
        "id": "CpwPFWhOUzww",
        "colab_type": "text"
      },
      "source": [
        "![대체 텍스트](https://www.notion.so/image/https%3A%2F%2Fs3-us-west-2.amazonaws.com%2Fsecure.notion-static.com%2Ff54dfd45-92ec-44ae-9616-6949d2484a45%2F_2020-06-10__5.22.03.png?table=block&id=ee05da89-3ceb-4ad9-a2d3-c9f68d24d1d9&width=3580&cache=v2)"
      ]
    },
    {
      "cell_type": "markdown",
      "metadata": {
        "id": "B2OVY7w5U3CI",
        "colab_type": "text"
      },
      "source": [
        "## (1) 학습률이 0.2 일 경우 출력층의 노드값 : 1.7\n",
        "## (2) 학습률이 0.1과 0.2 중 기대출력값이 지도데이터 \"3\"과 더 가까운 학습률은? : 0.1"
      ]
    },
    {
      "cell_type": "code",
      "metadata": {
        "id": "BgavfvqiWxBU",
        "colab_type": "code",
        "colab": {}
      },
      "source": [
        ""
      ],
      "execution_count": 0,
      "outputs": []
    }
  ]
}